{
 "cells": [
  {
   "cell_type": "code",
   "execution_count": 1,
   "metadata": {},
   "outputs": [],
   "source": [
    "import pandas as pd\n",
    "#dfproduct = pd.read_csv(\"C:\\MLPythonProy4\\AdvWorksProducts.csv\", sep=';')\n",
    "#print (dfproduct.head())\n",
    "def consulta1 (anualidad):\n",
    "    try:\n",
    "        if not isinstance(anualidad, (int)):\n",
    "            print (\"datos de entrada incorrectos, año debe ser entero\")\n",
    "        elif 2011 <= anualidad <= 2014:\n",
    "            dfcustomers = pd.read_csv(\"C:\\MLPythonProy4\\AdvWorksCustomers.csv\", sep=';')\n",
    "    # print (dfcustomers.head())\n",
    "            ruta = \"C:\\MLPythonProy4\\AdvWorksSalesOrderHeaders\" + str(anualidad) +\".csv\"\n",
    "            dfOrdersHeader = pd.read_csv(ruta, sep=';')\n",
    "            #print (dfOrdersHeader)\n",
    "#dforderheaders2011 = pd.read_csv(\"C:\\MLPythonProy4\\AdvWorksSalesOrderHeaders2011.csv\", sep=';')\n",
    "#print (dforderheaders2011.head())\n",
    "            dfordersforcustomer = pd.merge (dfcustomers,dfOrdersHeader,left_on=\"CustomerID\", right_on=\"CustomerId\")\n",
    "            print (dfordersforcustomer.head())\n",
    "        else:\n",
    "            print (\"el año debe estar entre 2011 y 2014\")\n",
    "    except Exception as E:\n",
    "        print (str(E))"
   ]
  },
  {
   "cell_type": "code",
   "execution_count": 2,
   "metadata": {},
   "outputs": [
    {
     "name": "stdout",
     "output_type": "stream",
     "text": [
      "   CustomerID CustomerName  TerritoryID_x  SalesOrderId   OrderDate  Status  \\\n",
      "0       14510   AW00014510            1.0         43805  2011-06-24       5   \n",
      "1       14520   AW00014520            1.0         43723  2011-06-06       5   \n",
      "2       14558   AW00014558            1.0         43824  2011-06-27       5   \n",
      "3       14576   AW00014576            1.0         43979  2011-07-13       5   \n",
      "4       14577   AW00014577            1.0         44057  2011-07-29       5   \n",
      "\n",
      "  PurchaseOrderNumber  CustomerId  TerritoryID_y  ShipMethodID Subtotal  \\\n",
      "0                 NaN       14510              1             1    699,1   \n",
      "1                 NaN       14520              1             1    699,1   \n",
      "2                 NaN       14558              1             1    699,1   \n",
      "3                 NaN       14576              1             1    699,1   \n",
      "4                 NaN       14577              1             1    699,1   \n",
      "\n",
      "  TaxAmt Freight  \n",
      "0  55,93   17,48  \n",
      "1  55,93   17,48  \n",
      "2  55,93   17,48  \n",
      "3  55,93   17,48  \n",
      "4  55,93   17,48  \n",
      "None\n"
     ]
    }
   ],
   "source": [
    "print (consulta1 (2011))"
   ]
  }
 ],
 "metadata": {
  "kernelspec": {
   "display_name": "Python 3",
   "language": "python",
   "name": "python3"
  },
  "language_info": {
   "codemirror_mode": {
    "name": "ipython",
    "version": 3
   },
   "file_extension": ".py",
   "mimetype": "text/x-python",
   "name": "python",
   "nbconvert_exporter": "python",
   "pygments_lexer": "ipython3",
   "version": "3.11.6"
  }
 },
 "nbformat": 4,
 "nbformat_minor": 2
}
